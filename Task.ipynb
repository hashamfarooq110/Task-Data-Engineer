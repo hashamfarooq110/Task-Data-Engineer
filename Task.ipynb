{
 "cells": [
  {
   "cell_type": "code",
   "execution_count": null,
   "id": "8699e4dd",
   "metadata": {},
   "outputs": [],
   "source": [
    "import pandas as pd\n",
    "import requests\n",
    "from bs4 import BeautifulSoup\n",
    "\n",
    "\n",
    "\n"
   ]
  },
  {
   "cell_type": "code",
   "execution_count": null,
   "id": "07f4c6ea",
   "metadata": {},
   "outputs": [],
   "source": [
    "url='https://www.zillow.com/';"
   ]
  },
  {
   "cell_type": "code",
   "execution_count": null,
   "id": "d323f8a8",
   "metadata": {},
   "outputs": [],
   "source": [
    "page=requests.get(url);\n"
   ]
  },
  {
   "cell_type": "code",
   "execution_count": null,
   "id": "dba87c1f",
   "metadata": {},
   "outputs": [],
   "source": [
    "page.content"
   ]
  },
  {
   "cell_type": "code",
   "execution_count": null,
   "id": "9bae8e34",
   "metadata": {},
   "outputs": [],
   "source": [
    "soup=BeautifulSoup(page.content,'html.parser')"
   ]
  },
  {
   "cell_type": "code",
   "execution_count": null,
   "id": "163d7f77",
   "metadata": {},
   "outputs": [],
   "source": [
    "cityzipcode=soup.findAll(attrs={'class'='sc-1dzx782-0 KiRwB  '})\n",
    "print(cityzipcode);"
   ]
  },
  {
   "cell_type": "code",
   "execution_count": null,
   "id": "f5ef8877",
   "metadata": {},
   "outputs": [],
   "source": [
    "address=cityzipcode[0].text.replace('\\n',\" \");\n",
    "neighborhood=cityzipcode[1].text.replace('\\n',\" \");\n",
    "city=cityzipcode[2].text.replace('\\n',\" \");\n",
    "zipcode=cityzipcode[3].text.replace('\\n',\" \");\n",
    "\n"
   ]
  },
  {
   "cell_type": "code",
   "execution_count": null,
   "id": "f934e294",
   "metadata": {},
   "outputs": [],
   "source": [
    "data=[[url,address,city,zipcode]]\n",
    "data"
   ]
  },
  {
   "cell_type": "code",
   "execution_count": null,
   "id": "a58755a9",
   "metadata": {},
   "outputs": [],
   "source": [
    "df=pd.DataFrame(data,columns=['url','address','city','zipcode']);"
   ]
  }
 ],
 "metadata": {
  "kernelspec": {
   "display_name": "Python 3 (ipykernel)",
   "language": "python",
   "name": "python3"
  },
  "language_info": {
   "codemirror_mode": {
    "name": "ipython",
    "version": 3
   },
   "file_extension": ".py",
   "mimetype": "text/x-python",
   "name": "python",
   "nbconvert_exporter": "python",
   "pygments_lexer": "ipython3",
   "version": "3.9.7"
  }
 },
 "nbformat": 4,
 "nbformat_minor": 5
}
